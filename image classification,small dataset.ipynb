{
 "cells": [
  {
   "cell_type": "markdown",
   "metadata": {},
   "source": [
    "### Loading the Images"
   ]
  },
  {
   "cell_type": "code",
   "execution_count": 1,
   "metadata": {},
   "outputs": [],
   "source": [
    "import os\n",
    "import shutil"
   ]
  },
  {
   "cell_type": "code",
   "execution_count": 2,
   "metadata": {},
   "outputs": [],
   "source": [
    "original_dataset_dir=\"C:\\\\Users\\\\Majid\\\\Desktop\\\\images\\\\im_cat_dog\""
   ]
  },
  {
   "cell_type": "code",
   "execution_count": 3,
   "metadata": {},
   "outputs": [],
   "source": [
    "base_dir=\"C:\\\\Users\\\\Majid\\\\Desktop\\\\cats_and_dogs_small\"\n",
    "os.mkdir(base_dir)"
   ]
  },
  {
   "cell_type": "code",
   "execution_count": 4,
   "metadata": {},
   "outputs": [],
   "source": [
    "train_dir=os.path.join(base_dir, \"train\")\n",
    "os.mkdir(train_dir)\n",
    "\n",
    "validation_dir=os.path.join(base_dir, \"valid\")\n",
    "os.mkdir(validation_dir)\n",
    "\n",
    "test_dir=os.path.join(base_dir, \"test\")\n",
    "os.mkdir(test_dir)"
   ]
  },
  {
   "cell_type": "code",
   "execution_count": 5,
   "metadata": {},
   "outputs": [],
   "source": [
    "train_cats_dir=os.path.join(train_dir, \"train_cat\")\n",
    "os.mkdir(train_cats_dir)\n",
    "\n",
    "train_dogs_dir=os.path.join(train_dir, \"train_dog\")\n",
    "os.mkdir(train_dogs_dir)"
   ]
  },
  {
   "cell_type": "code",
   "execution_count": 6,
   "metadata": {},
   "outputs": [],
   "source": [
    "validation_cats_dir=os.path.join(validation_dir, \"valid_cat\")\n",
    "os.mkdir(validation_cats_dir)\n",
    "\n",
    "validation_dogs_dir=os.path.join(validation_dir, \"valid_dog\")\n",
    "os.mkdir(validation_dogs_dir)"
   ]
  },
  {
   "cell_type": "code",
   "execution_count": 7,
   "metadata": {},
   "outputs": [],
   "source": [
    "test_cats_dir=os.path.join(test_dir, \"test_cat\")\n",
    "os.mkdir(test_cats_dir)\n",
    "\n",
    "test_dogs_dir=os.path.join(test_dir, \"test_dog\")\n",
    "os.mkdir(test_dogs_dir)"
   ]
  },
  {
   "cell_type": "code",
   "execution_count": 8,
   "metadata": {},
   "outputs": [],
   "source": [
    "fnames1=[\"cat.{}.jpg\".format(i) for i in range(1000)]\n",
    "for fname in fnames1:\n",
    "    src=os.path.join(original_dataset_dir, fname)\n",
    "    dst=os.path.join(train_cats_dir, fname)\n",
    "    shutil.copyfile(src, dst)\n",
    "    \n",
    "fnames2=[\"cat.{}.jpg\".format(i) for i in range(1000, 1500)]\n",
    "for fname in fnames2:\n",
    "    src=os.path.join(original_dataset_dir, fname)\n",
    "    dst=os.path.join(validation_cats_dir, fname)\n",
    "    shutil.copyfile(src, dst)\n",
    "\n",
    "fnames3=[\"cat.{}.jpg\".format(i) for i in range(1500, 2000)]\n",
    "for fname in fnames3:\n",
    "    src=os.path.join(original_dataset_dir, fname)\n",
    "    dst=os.path.join(test_cats_dir, fname)\n",
    "    shutil.copyfile(src, dst)\n"
   ]
  },
  {
   "cell_type": "code",
   "execution_count": 9,
   "metadata": {},
   "outputs": [],
   "source": [
    "fnames4=[\"dog.{}.jpg\".format(i) for i in range(1000)]\n",
    "for fname in fnames4:\n",
    "    src=os.path.join(original_dataset_dir, fname)\n",
    "    dst=os.path.join(train_dogs_dir, fname)\n",
    "    shutil.copyfile(src, dst)\n",
    "    \n",
    "fnames5=[\"dog.{}.jpg\".format(i) for i in range(1000, 1500)]\n",
    "for fname in fnames5:\n",
    "    src=os.path.join(original_dataset_dir, fname)\n",
    "    dst=os.path.join(validation_dogs_dir, fname)\n",
    "    shutil.copyfile(src, dst)\n",
    "\n",
    "fnames6=[\"dog.{}.jpg\".format(i) for i in range(1500, 2000)]\n",
    "for fname in fnames6:\n",
    "    src=os.path.join(original_dataset_dir, fname)\n",
    "    dst=os.path.join(test_dogs_dir, fname)\n",
    "    shutil.copyfile(src, dst)"
   ]
  },
  {
   "cell_type": "code",
   "execution_count": 10,
   "metadata": {},
   "outputs": [
    {
     "name": "stdout",
     "output_type": "stream",
     "text": [
      "total training cat images= 1000\n",
      "total testing cat images= 500\n",
      "total validation cat images= 500\n",
      "total training dog images= 1000\n",
      "total testing dog images= 500\n",
      "total validation dog images= 500\n"
     ]
    }
   ],
   "source": [
    "print(\"total training cat images=\", len(os.listdir(train_cats_dir)))\n",
    "\n",
    "print(\"total testing cat images=\", len(os.listdir(test_cats_dir)))\n",
    "\n",
    "print(\"total validation cat images=\", len(os.listdir(validation_cats_dir)))\n",
    "\n",
    "print(\"total training dog images=\", len(os.listdir(train_dogs_dir)))\n",
    "\n",
    "print(\"total testing dog images=\", len(os.listdir(test_cats_dir)))\n",
    "\n",
    "print(\"total validation dog images=\", len(os.listdir(validation_cats_dir)))"
   ]
  },
  {
   "cell_type": "markdown",
   "metadata": {},
   "source": [
    "## Conventional Neural networks"
   ]
  },
  {
   "cell_type": "code",
   "execution_count": 11,
   "metadata": {},
   "outputs": [],
   "source": [
    "from tensorflow.keras import layers\n",
    "from tensorflow.keras import models"
   ]
  },
  {
   "cell_type": "code",
   "execution_count": 12,
   "metadata": {},
   "outputs": [
    {
     "name": "stdout",
     "output_type": "stream",
     "text": [
      "WARNING:tensorflow:From C:\\Users\\Majid\\.conda\\envs\\tf\\lib\\site-packages\\tensorflow_core\\python\\ops\\resource_variable_ops.py:1630: calling BaseResourceVariable.__init__ (from tensorflow.python.ops.resource_variable_ops) with constraint is deprecated and will be removed in a future version.\n",
      "Instructions for updating:\n",
      "If using Keras pass *_constraint arguments to layers.\n"
     ]
    }
   ],
   "source": [
    "model=models.Sequential()\n",
    "model.add(layers.Conv2D(32, (3,3), activation=\"relu\", input_shape=(150,150,3)))\n",
    "model.add(layers.MaxPool2D((2,2)))\n",
    "model.add(layers.Conv2D(64, (3,3), activation=\"relu\"))\n",
    "model.add(layers.MaxPool2D((2,2)))\n",
    "model.add(layers.Conv2D(128, (3,3), activation=\"relu\"))\n",
    "model.add(layers.MaxPool2D((2,2)))\n",
    "model.add(layers.Conv2D(128, (3,3), activation=\"relu\"))\n",
    "model.add(layers.MaxPool2D((2,2)))\n",
    "model.add(layers.Flatten())\n",
    "model.add(layers.Dense(512, activation=\"relu\"))\n",
    "model.add(layers.Dense(1, activation=\"sigmoid\"))"
   ]
  },
  {
   "cell_type": "code",
   "execution_count": 13,
   "metadata": {},
   "outputs": [
    {
     "name": "stdout",
     "output_type": "stream",
     "text": [
      "Model: \"sequential\"\n",
      "_________________________________________________________________\n",
      "Layer (type)                 Output Shape              Param #   \n",
      "=================================================================\n",
      "conv2d (Conv2D)              (None, 148, 148, 32)      896       \n",
      "_________________________________________________________________\n",
      "max_pooling2d (MaxPooling2D) (None, 74, 74, 32)        0         \n",
      "_________________________________________________________________\n",
      "conv2d_1 (Conv2D)            (None, 72, 72, 64)        18496     \n",
      "_________________________________________________________________\n",
      "max_pooling2d_1 (MaxPooling2 (None, 36, 36, 64)        0         \n",
      "_________________________________________________________________\n",
      "conv2d_2 (Conv2D)            (None, 34, 34, 128)       73856     \n",
      "_________________________________________________________________\n",
      "max_pooling2d_2 (MaxPooling2 (None, 17, 17, 128)       0         \n",
      "_________________________________________________________________\n",
      "conv2d_3 (Conv2D)            (None, 15, 15, 128)       147584    \n",
      "_________________________________________________________________\n",
      "max_pooling2d_3 (MaxPooling2 (None, 7, 7, 128)         0         \n",
      "_________________________________________________________________\n",
      "flatten (Flatten)            (None, 6272)              0         \n",
      "_________________________________________________________________\n",
      "dense (Dense)                (None, 512)               3211776   \n",
      "_________________________________________________________________\n",
      "dense_1 (Dense)              (None, 1)                 513       \n",
      "=================================================================\n",
      "Total params: 3,453,121\n",
      "Trainable params: 3,453,121\n",
      "Non-trainable params: 0\n",
      "_________________________________________________________________\n"
     ]
    }
   ],
   "source": [
    "model.summary()"
   ]
  },
  {
   "cell_type": "code",
   "execution_count": 14,
   "metadata": {},
   "outputs": [],
   "source": [
    "from tensorflow.keras import optimizers"
   ]
  },
  {
   "cell_type": "code",
   "execution_count": 15,
   "metadata": {},
   "outputs": [
    {
     "name": "stdout",
     "output_type": "stream",
     "text": [
      "WARNING:tensorflow:From C:\\Users\\Majid\\.conda\\envs\\tf\\lib\\site-packages\\tensorflow_core\\python\\ops\\nn_impl.py:183: where (from tensorflow.python.ops.array_ops) is deprecated and will be removed in a future version.\n",
      "Instructions for updating:\n",
      "Use tf.where in 2.0, which has the same broadcast rule as np.where\n"
     ]
    }
   ],
   "source": [
    "model.compile(optimizer=optimizers.RMSprop(lr=1e-4), loss=\"binary_crossentropy\", metrics=[\"acc\"])"
   ]
  },
  {
   "cell_type": "code",
   "execution_count": 16,
   "metadata": {},
   "outputs": [],
   "source": [
    "from tensorflow.keras.preprocessing.image import ImageDataGenerator"
   ]
  },
  {
   "cell_type": "code",
   "execution_count": 17,
   "metadata": {},
   "outputs": [],
   "source": [
    "train_datagen=ImageDataGenerator(rescale=1/255)\n",
    "test_datagen=ImageDataGenerator(rescale=1/255)"
   ]
  },
  {
   "cell_type": "code",
   "execution_count": 18,
   "metadata": {},
   "outputs": [
    {
     "name": "stdout",
     "output_type": "stream",
     "text": [
      "Found 2000 images belonging to 2 classes.\n",
      "Found 1000 images belonging to 2 classes.\n"
     ]
    }
   ],
   "source": [
    "train_generator=train_datagen.flow_from_directory(train_dir, target_size=(150,150), batch_size=20, class_mode=\"binary\")\n",
    "valiadtion_generator=test_datagen.flow_from_directory(validation_dir, target_size=(150,150), batch_size=20, class_mode=\"binary\")"
   ]
  },
  {
   "cell_type": "code",
   "execution_count": 22,
   "metadata": {},
   "outputs": [
    {
     "name": "stdout",
     "output_type": "stream",
     "text": [
      "Epoch 1/30\n",
      " 99/100 [============================>.] - ETA: 0s - loss: 0.6889 - acc: 0.5414Epoch 1/30\n",
      "100/100 [==============================] - 94s 939ms/step - loss: 0.6889 - acc: 0.5415 - val_loss: 0.6697 - val_acc: 0.6030\n",
      "Epoch 2/30\n",
      " 99/100 [============================>.] - ETA: 0s - loss: 0.6507 - acc: 0.6192Epoch 1/30\n",
      "100/100 [==============================] - 92s 919ms/step - loss: 0.6509 - acc: 0.6185 - val_loss: 0.6566 - val_acc: 0.5990\n",
      "Epoch 3/30\n",
      " 99/100 [============================>.] - ETA: 0s - loss: 0.6044 - acc: 0.6763Epoch 1/30\n",
      "100/100 [==============================] - 91s 912ms/step - loss: 0.6040 - acc: 0.6775 - val_loss: 0.6114 - val_acc: 0.6530\n",
      "Epoch 4/30\n",
      " 99/100 [============================>.] - ETA: 0s - loss: 0.5738 - acc: 0.6965Epoch 1/30\n",
      "100/100 [==============================] - 91s 907ms/step - loss: 0.5726 - acc: 0.6980 - val_loss: 0.6009 - val_acc: 0.6630\n",
      "Epoch 5/30\n",
      " 99/100 [============================>.] - ETA: 0s - loss: 0.5472 - acc: 0.7222Epoch 1/30\n",
      "100/100 [==============================] - 92s 917ms/step - loss: 0.5473 - acc: 0.7220 - val_loss: 0.5941 - val_acc: 0.6690\n",
      "Epoch 6/30\n",
      " 99/100 [============================>.] - ETA: 0s - loss: 0.5160 - acc: 0.7434Epoch 1/30\n",
      "100/100 [==============================] - 90s 899ms/step - loss: 0.5156 - acc: 0.7440 - val_loss: 0.5714 - val_acc: 0.6870\n",
      "Epoch 7/30\n",
      " 99/100 [============================>.] - ETA: 0s - loss: 0.4945 - acc: 0.7596Epoch 1/30\n",
      "100/100 [==============================] - 91s 913ms/step - loss: 0.4937 - acc: 0.7605 - val_loss: 0.5828 - val_acc: 0.6830\n",
      "Epoch 8/30\n",
      " 99/100 [============================>.] - ETA: 0s - loss: 0.4694 - acc: 0.7773Epoch 1/30\n",
      "100/100 [==============================] - 91s 906ms/step - loss: 0.4694 - acc: 0.7765 - val_loss: 0.5626 - val_acc: 0.6980\n",
      "Epoch 9/30\n",
      " 99/100 [============================>.] - ETA: 0s - loss: 0.4420 - acc: 0.7889Epoch 1/30\n",
      "100/100 [==============================] - 91s 907ms/step - loss: 0.4419 - acc: 0.7885 - val_loss: 0.5520 - val_acc: 0.7080\n",
      "Epoch 10/30\n",
      " 99/100 [============================>.] - ETA: 0s - loss: 0.4141 - acc: 0.8187Epoch 1/30\n",
      "100/100 [==============================] - 91s 908ms/step - loss: 0.4121 - acc: 0.8200 - val_loss: 0.5656 - val_acc: 0.7250\n",
      "Epoch 11/30\n",
      " 99/100 [============================>.] - ETA: 0s - loss: 0.3961 - acc: 0.8167Epoch 1/30\n",
      "100/100 [==============================] - 90s 902ms/step - loss: 0.3961 - acc: 0.8170 - val_loss: 0.6114 - val_acc: 0.7100\n",
      "Epoch 12/30\n",
      " 99/100 [============================>.] - ETA: 0s - loss: 0.3708 - acc: 0.8338Epoch 1/30\n",
      "100/100 [==============================] - 94s 944ms/step - loss: 0.3721 - acc: 0.8340 - val_loss: 0.6268 - val_acc: 0.7080\n",
      "Epoch 13/30\n",
      " 99/100 [============================>.] - ETA: 0s - loss: 0.3488 - acc: 0.8460Epoch 1/30\n",
      "100/100 [==============================] - 97s 965ms/step - loss: 0.3480 - acc: 0.8465 - val_loss: 0.5409 - val_acc: 0.7300\n",
      "Epoch 14/30\n",
      " 99/100 [============================>.] - ETA: 0s - loss: 0.3293 - acc: 0.8667Epoch 1/30\n",
      "100/100 [==============================] - 97s 968ms/step - loss: 0.3283 - acc: 0.8675 - val_loss: 0.5533 - val_acc: 0.7420\n",
      "Epoch 15/30\n",
      " 99/100 [============================>.] - ETA: 0s - loss: 0.3065 - acc: 0.8646Epoch 1/30\n",
      "100/100 [==============================] - 97s 967ms/step - loss: 0.3062 - acc: 0.8650 - val_loss: 0.6736 - val_acc: 0.7190\n",
      "Epoch 16/30\n",
      " 99/100 [============================>.] - ETA: 0s - loss: 0.2838 - acc: 0.8864Epoch 1/30\n",
      "100/100 [==============================] - 96s 958ms/step - loss: 0.2837 - acc: 0.8860 - val_loss: 0.7917 - val_acc: 0.6950\n",
      "Epoch 17/30\n",
      " 99/100 [============================>.] - ETA: 0s - loss: 0.2660 - acc: 0.8955Epoch 1/30\n",
      "100/100 [==============================] - 94s 937ms/step - loss: 0.2653 - acc: 0.8960 - val_loss: 0.5724 - val_acc: 0.7510\n",
      "Epoch 18/30\n",
      " 99/100 [============================>.] - ETA: 0s - loss: 0.2455 - acc: 0.9040Epoch 1/30\n",
      "100/100 [==============================] - 94s 942ms/step - loss: 0.2462 - acc: 0.9035 - val_loss: 0.5631 - val_acc: 0.7490\n",
      "Epoch 19/30\n",
      " 99/100 [============================>.] - ETA: 0s - loss: 0.2271 - acc: 0.9207Epoch 1/30\n",
      "100/100 [==============================] - 92s 920ms/step - loss: 0.2268 - acc: 0.9200 - val_loss: 0.5916 - val_acc: 0.7460\n",
      "Epoch 20/30\n",
      " 99/100 [============================>.] - ETA: 0s - loss: 0.2016 - acc: 0.9232Epoch 1/30\n",
      "100/100 [==============================] - 93s 931ms/step - loss: 0.2011 - acc: 0.9235 - val_loss: 0.6713 - val_acc: 0.7350\n",
      "Epoch 21/30\n",
      " 99/100 [============================>.] - ETA: 0s - loss: 0.1845 - acc: 0.9278Epoch 1/30\n",
      "100/100 [==============================] - 92s 921ms/step - loss: 0.1841 - acc: 0.9280 - val_loss: 0.7579 - val_acc: 0.7210\n",
      "Epoch 22/30\n",
      " 99/100 [============================>.] - ETA: 0s - loss: 0.1656 - acc: 0.9394Epoch 1/30\n",
      "100/100 [==============================] - 87s 872ms/step - loss: 0.1657 - acc: 0.9395 - val_loss: 0.7716 - val_acc: 0.7160\n",
      "Epoch 23/30\n",
      " 99/100 [============================>.] - ETA: 0s - loss: 0.1501 - acc: 0.9490Epoch 1/30\n",
      "100/100 [==============================] - 43s 433ms/step - loss: 0.1530 - acc: 0.9475 - val_loss: 0.7034 - val_acc: 0.7340\n",
      "Epoch 24/30\n",
      " 99/100 [============================>.] - ETA: 0s - loss: 0.1334 - acc: 0.9556Epoch 1/30\n",
      "100/100 [==============================] - 43s 427ms/step - loss: 0.1332 - acc: 0.9555 - val_loss: 0.6909 - val_acc: 0.7460\n",
      "Epoch 25/30\n",
      " 99/100 [============================>.] - ETA: 0s - loss: 0.1167 - acc: 0.9626Epoch 1/30\n",
      "100/100 [==============================] - 44s 438ms/step - loss: 0.1171 - acc: 0.9625 - val_loss: 0.7632 - val_acc: 0.7460\n",
      "Epoch 26/30\n",
      " 99/100 [============================>.] - ETA: 0s - loss: 0.1087 - acc: 0.9662Epoch 1/30\n",
      "100/100 [==============================] - 46s 460ms/step - loss: 0.1099 - acc: 0.9655 - val_loss: 0.7510 - val_acc: 0.7380\n",
      "Epoch 27/30\n",
      " 99/100 [============================>.] - ETA: 0s - loss: 0.0947 - acc: 0.9692Epoch 1/30\n",
      "100/100 [==============================] - 45s 451ms/step - loss: 0.0945 - acc: 0.9695 - val_loss: 0.8423 - val_acc: 0.7410\n",
      "Epoch 28/30\n",
      " 99/100 [============================>.] - ETA: 0s - loss: 0.0808 - acc: 0.9742Epoch 1/30\n",
      "100/100 [==============================] - 43s 425ms/step - loss: 0.0802 - acc: 0.9745 - val_loss: 0.8406 - val_acc: 0.7370\n",
      "Epoch 29/30\n",
      " 99/100 [============================>.] - ETA: 0s - loss: 0.0707 - acc: 0.9788Epoch 1/30\n",
      "100/100 [==============================] - 41s 414ms/step - loss: 0.0705 - acc: 0.9790 - val_loss: 0.8213 - val_acc: 0.7420\n",
      "Epoch 30/30\n",
      " 99/100 [============================>.] - ETA: 0s - loss: 0.0606 - acc: 0.9813Epoch 1/30\n",
      "100/100 [==============================] - 41s 410ms/step - loss: 0.0605 - acc: 0.9810 - val_loss: 0.8334 - val_acc: 0.7460\n"
     ]
    }
   ],
   "source": [
    "history=model.fit_generator(train_generator, steps_per_epoch=100, validation_data=valiadtion_generator, epochs=30, validation_steps=50)"
   ]
  },
  {
   "cell_type": "code",
   "execution_count": 33,
   "metadata": {},
   "outputs": [],
   "source": [
    "model.save(\"cats_and_dogs_small_1.h5\")"
   ]
  },
  {
   "cell_type": "code",
   "execution_count": 25,
   "metadata": {},
   "outputs": [],
   "source": [
    "import matplotlib.pyplot as plt"
   ]
  },
  {
   "cell_type": "code",
   "execution_count": 24,
   "metadata": {},
   "outputs": [
    {
     "data": {
      "image/png": "[encoded data removed]",
      "text/plain": [
       "<Figure size 432x288 with 1 Axes>"
      ]
     },
     "metadata": {
      "needs_background": "light"
     },
     "output_type": "display_data"
    },
    {
     "data": {
      "image/png": "[encoded data removed]",
      "text/plain": [
       "<Figure size 432x288 with 1 Axes>"
      ]
     },
     "metadata": {
      "needs_background": "light"
     },
     "output_type": "display_data"
    }
   ],
   "source": [
    "acc=history.history[\"acc\"]\n",
    "val_acc=history.history[\"val_acc\"]\n",
    "\n",
    "loss=history.history[\"loss\"]\n",
    "val_loss=loss=history.history[\"val_loss\"]\n",
    "\n",
    "epochs=range(1, len(acc)+1)\n",
    "\n",
    "plt.plot(epochs, acc, \"bo\", label=\"Traning accuracy\")\n",
    "plt.plot(epochs, val_acc, \"b\", label=\"Validation accuracy\")\n",
    "plt.title(\"Traning and Validation accuracy\")\n",
    "plt.legend()\n",
    "\n",
    "plt.figure()\n",
    "plt.plot(epochs, loss, \"bo\", label=\"Traning loss\")\n",
    "plt.plot(epochs, val_loss, \"b\", label=\"Validation loss\")\n",
    "plt.title(\"Traning and Validation loss\")\n",
    "plt.legend()\n",
    "plt.show()"
   ]
  },
  {
   "cell_type": "markdown",
   "metadata": {},
   "source": [
    "## Data Augmentation"
   ]
  },
  {
   "cell_type": "code",
   "execution_count": 19,
   "metadata": {},
   "outputs": [],
   "source": [
    "datagen=ImageDataGenerator(rotation_range=40, width_shift_range=0.2, height_shift_range=0.2, \n",
    "                           shear_range=0.2, zoom_range=0.2, horizontal_flip=True, fill_mode=\"nearest\")"
   ]
  },
  {
   "cell_type": "code",
   "execution_count": 20,
   "metadata": {},
   "outputs": [],
   "source": [
    "from tensorflow.keras.preprocessing import image\n",
    "fnames=[os.path.join(test_cats_dir, fname) for fname in os.listdir(test_cats_dir)]"
   ]
  },
  {
   "cell_type": "code",
   "execution_count": 21,
   "metadata": {},
   "outputs": [],
   "source": [
    "im_path=fnames[3]"
   ]
  },
  {
   "cell_type": "code",
   "execution_count": 22,
   "metadata": {},
   "outputs": [],
   "source": [
    "img=image.load_img(im_path, target_size=(150,150))"
   ]
  },
  {
   "cell_type": "code",
   "execution_count": 23,
   "metadata": {},
   "outputs": [],
   "source": [
    "x=image.img_to_array(img)\n",
    "x=x.reshape((1,)+x.shape)"
   ]
  },
  {
   "cell_type": "code",
   "execution_count": 26,
   "metadata": {},
   "outputs": [
    {
     "data": {
      "image/png": "[encoded data removed]",
      "text/plain": [
       "<Figure size 432x288 with 1 Axes>"
      ]
     },
     "metadata": {
      "needs_background": "light"
     },
     "output_type": "display_data"
    }
   ],
   "source": [
    "i=0\n",
    "for batch in datagen.flow(x, batch_size=1):\n",
    "    imgplot=plt.imshow(image.array_to_img(batch[0]))\n",
    "    i+=1\n",
    "    if i % 4==0:\n",
    "        break\n",
    "plt.show()"
   ]
  },
  {
   "cell_type": "code",
   "execution_count": 27,
   "metadata": {},
   "outputs": [],
   "source": [
    "model=models.Sequential()\n",
    "model.add(layers.Conv2D(32, (3,3), activation=\"relu\", input_shape=(150,150,3)))\n",
    "model.add(layers.MaxPool2D((2,2)))\n",
    "\n",
    "model.add(layers.Conv2D(64, (3,3), activation=\"relu\"))\n",
    "model.add(layers.MaxPool2D((2,2)))\n",
    "\n",
    "model.add(layers.Conv2D(128, (3,3), activation=\"relu\"))\n",
    "model.add(layers.MaxPool2D((2,2)))\n",
    "\n",
    "model.add(layers.Conv2D(128, (3,3), activation=\"relu\"))\n",
    "model.add(layers.MaxPool2D((2,2)))\n",
    "model.add(layers.Flatten())\n",
    "model.add(layers.Dropout(0.5))\n",
    "model.add(layers.Dense(512, activation=\"relu\"))\n",
    "model.add(layers.Dense(1, activation=\"sigmoid\"))"
   ]
  },
  {
   "cell_type": "code",
   "execution_count": 28,
   "metadata": {},
   "outputs": [],
   "source": [
    "model.compile(optimizer=optimizers.RMSprop(lr=1e-4), loss=\"binary_crossentropy\", metrics=[\"acc\"])"
   ]
  },
  {
   "cell_type": "code",
   "execution_count": 29,
   "metadata": {},
   "outputs": [],
   "source": [
    "train_datagen=ImageDataGenerator(rescale=1/255,rotation_range=40, width_shift_range=0.2, height_shift_range=0.2, \n",
    "                           shear_range=0.2, zoom_range=0.2, horizontal_flip=True, fill_mode=\"nearest\")"
   ]
  },
  {
   "cell_type": "code",
   "execution_count": 30,
   "metadata": {},
   "outputs": [],
   "source": [
    "test_datagen=ImageDataGenerator(rescale=1/255)"
   ]
  },
  {
   "cell_type": "code",
   "execution_count": 31,
   "metadata": {},
   "outputs": [
    {
     "name": "stdout",
     "output_type": "stream",
     "text": [
      "Found 2000 images belonging to 2 classes.\n",
      "Found 1000 images belonging to 2 classes.\n"
     ]
    }
   ],
   "source": [
    "train_generator=train_datagen.flow_from_directory(train_dir, target_size=(150,150), batch_size=20, class_mode=\"binary\")\n",
    "\n",
    "validation_generator=test_datagen.flow_from_directory(test_dir, target_size=(150,150), batch_size=20, class_mode=\"binary\")"
   ]
  },
  {
   "cell_type": "code",
   "execution_count": 36,
   "metadata": {},
   "outputs": [
    {
     "name": "stdout",
     "output_type": "stream",
     "text": [
      "Epoch 1/100\n",
      " 99/100 [============================>.] - ETA: 0s - loss: 0.6940 - acc: 0.5131Epoch 1/100\n",
      "100/100 [==============================] - 42s 424ms/step - loss: 0.6938 - acc: 0.5130 - val_loss: 0.6874 - val_acc: 0.5000\n",
      "Epoch 2/100\n",
      " 99/100 [============================>.] - ETA: 0s - loss: 0.6827 - acc: 0.5470Epoch 1/100\n",
      "100/100 [==============================] - 41s 413ms/step - loss: 0.6824 - acc: 0.5470 - val_loss: 0.6901 - val_acc: 0.5160\n",
      "Epoch 3/100\n",
      " 99/100 [============================>.] - ETA: 0s - loss: 0.6695 - acc: 0.5758Epoch 1/100\n",
      "100/100 [==============================] - 43s 430ms/step - loss: 0.6695 - acc: 0.5745 - val_loss: 0.6459 - val_acc: 0.6060\n",
      "Epoch 4/100\n",
      " 99/100 [============================>.] - ETA: 0s - loss: 0.6574 - acc: 0.6010Epoch 1/100\n",
      "100/100 [==============================] - 41s 408ms/step - loss: 0.6578 - acc: 0.6000 - val_loss: 0.6384 - val_acc: 0.6270\n",
      "Epoch 5/100\n",
      " 99/100 [============================>.] - ETA: 0s - loss: 0.6464 - acc: 0.6111Epoch 1/100\n",
      "100/100 [==============================] - 41s 407ms/step - loss: 0.6458 - acc: 0.6115 - val_loss: 0.6451 - val_acc: 0.6000\n",
      "Epoch 6/100\n",
      " 99/100 [============================>.] - ETA: 0s - loss: 0.6411 - acc: 0.6338Epoch 1/100\n",
      "100/100 [==============================] - 40s 403ms/step - loss: 0.6416 - acc: 0.6335 - val_loss: 0.6079 - val_acc: 0.6720\n",
      "Epoch 7/100\n",
      " 99/100 [============================>.] - ETA: 0s - loss: 0.6171 - acc: 0.6434Epoch 1/100\n",
      "100/100 [==============================] - 42s 421ms/step - loss: 0.6170 - acc: 0.6450 - val_loss: 0.5865 - val_acc: 0.6870\n",
      "Epoch 8/100\n",
      " 99/100 [============================>.] - ETA: 0s - loss: 0.6097 - acc: 0.6611Epoch 1/100\n",
      "100/100 [==============================] - 44s 437ms/step - loss: 0.6096 - acc: 0.6625 - val_loss: 0.5833 - val_acc: 0.6760\n",
      "Epoch 9/100\n",
      " 99/100 [============================>.] - ETA: 0s - loss: 0.6053 - acc: 0.6636Epoch 1/100\n",
      "100/100 [==============================] - 42s 418ms/step - loss: 0.6058 - acc: 0.6625 - val_loss: 0.5741 - val_acc: 0.7000\n",
      "Epoch 10/100\n",
      " 99/100 [============================>.] - ETA: 0s - loss: 0.6028 - acc: 0.6758Epoch 1/100\n",
      "100/100 [==============================] - 44s 435ms/step - loss: 0.6026 - acc: 0.6755 - val_loss: 0.5729 - val_acc: 0.7080\n",
      "Epoch 11/100\n",
      " 99/100 [============================>.] - ETA: 0s - loss: 0.5920 - acc: 0.6742Epoch 1/100\n",
      "100/100 [==============================] - 44s 437ms/step - loss: 0.5910 - acc: 0.6750 - val_loss: 0.5758 - val_acc: 0.6930\n",
      "Epoch 12/100\n",
      " 99/100 [============================>.] - ETA: 0s - loss: 0.5826 - acc: 0.6949Epoch 1/100\n",
      "100/100 [==============================] - 43s 428ms/step - loss: 0.5822 - acc: 0.6945 - val_loss: 0.5999 - val_acc: 0.6660\n",
      "Epoch 13/100\n",
      " 99/100 [============================>.] - ETA: 0s - loss: 0.5757 - acc: 0.6909Epoch 1/100\n",
      "100/100 [==============================] - 42s 417ms/step - loss: 0.5748 - acc: 0.6915 - val_loss: 0.5751 - val_acc: 0.6980\n",
      "Epoch 14/100\n",
      " 99/100 [============================>.] - ETA: 0s - loss: 0.5837 - acc: 0.6995Epoch 1/100\n",
      "100/100 [==============================] - 41s 415ms/step - loss: 0.5840 - acc: 0.7000 - val_loss: 0.5379 - val_acc: 0.7180\n",
      "Epoch 15/100\n",
      " 99/100 [============================>.] - ETA: 0s - loss: 0.5734 - acc: 0.6990Epoch 1/100\n",
      "100/100 [==============================] - 42s 425ms/step - loss: 0.5736 - acc: 0.6985 - val_loss: 0.5434 - val_acc: 0.7110\n",
      "Epoch 16/100\n",
      " 99/100 [============================>.] - ETA: 0s - loss: 0.5678 - acc: 0.7000Epoch 1/100\n",
      "100/100 [==============================] - 42s 422ms/step - loss: 0.5693 - acc: 0.6980 - val_loss: 0.5307 - val_acc: 0.7250\n",
      "Epoch 17/100\n",
      " 99/100 [============================>.] - ETA: 0s - loss: 0.5624 - acc: 0.6980Epoch 1/100\n",
      "100/100 [==============================] - 43s 426ms/step - loss: 0.5620 - acc: 0.6990 - val_loss: 0.5751 - val_acc: 0.6820\n",
      "Epoch 18/100\n",
      " 99/100 [============================>.] - ETA: 0s - loss: 0.5636 - acc: 0.6990Epoch 1/100\n",
      "100/100 [==============================] - 42s 417ms/step - loss: 0.5630 - acc: 0.6995 - val_loss: 0.5412 - val_acc: 0.7250\n",
      "Epoch 19/100\n",
      " 99/100 [============================>.] - ETA: 0s - loss: 0.5551 - acc: 0.7222Epoch 1/100\n",
      "100/100 [==============================] - 42s 423ms/step - loss: 0.5544 - acc: 0.7220 - val_loss: 0.5358 - val_acc: 0.7160\n",
      "Epoch 20/100\n",
      " 99/100 [============================>.] - ETA: 0s - loss: 0.5454 - acc: 0.7237Epoch 1/100\n",
      "100/100 [==============================] - 43s 434ms/step - loss: 0.5453 - acc: 0.7235 - val_loss: 0.5328 - val_acc: 0.7280\n",
      "Epoch 21/100\n",
      " 99/100 [============================>.] - ETA: 0s - loss: 0.5438 - acc: 0.7288Epoch 1/100\n",
      "100/100 [==============================] - 42s 419ms/step - loss: 0.5449 - acc: 0.7285 - val_loss: 0.5172 - val_acc: 0.7380\n",
      "Epoch 22/100\n",
      " 99/100 [============================>.] - ETA: 0s - loss: 0.5445 - acc: 0.7202Epoch 1/100\n",
      "100/100 [==============================] - 43s 425ms/step - loss: 0.5428 - acc: 0.7210 - val_loss: 0.5121 - val_acc: 0.7410\n",
      "Epoch 23/100\n",
      " 99/100 [============================>.] - ETA: 0s - loss: 0.5296 - acc: 0.7364Epoch 1/100\n",
      "100/100 [==============================] - 42s 422ms/step - loss: 0.5276 - acc: 0.7385 - val_loss: 0.5016 - val_acc: 0.7560\n",
      "Epoch 24/100\n",
      " 99/100 [============================>.] - ETA: 0s - loss: 0.5291 - acc: 0.7414Epoch 1/100\n",
      "100/100 [==============================] - 44s 439ms/step - loss: 0.5295 - acc: 0.7410 - val_loss: 0.5483 - val_acc: 0.7330\n",
      "Epoch 25/100\n",
      " 99/100 [============================>.] - ETA: 0s - loss: 0.5350 - acc: 0.7283Epoch 1/100\n",
      "100/100 [==============================] - 43s 425ms/step - loss: 0.5347 - acc: 0.7290 - val_loss: 0.5297 - val_acc: 0.7370\n",
      "Epoch 26/100\n",
      " 99/100 [============================>.] - ETA: 0s - loss: 0.5235 - acc: 0.7384Epoch 1/100\n",
      "100/100 [==============================] - 44s 436ms/step - loss: 0.5225 - acc: 0.7400 - val_loss: 0.6790 - val_acc: 0.6560\n",
      "Epoch 27/100\n",
      " 99/100 [============================>.] - ETA: 0s - loss: 0.5207 - acc: 0.7485Epoch 1/100\n",
      "100/100 [==============================] - 41s 414ms/step - loss: 0.5215 - acc: 0.7475 - val_loss: 0.4943 - val_acc: 0.7640\n",
      "Epoch 28/100\n",
      " 99/100 [============================>.] - ETA: 0s - loss: 0.5214 - acc: 0.7424Epoch 1/100\n",
      "100/100 [==============================] - 43s 425ms/step - loss: 0.5197 - acc: 0.7440 - val_loss: 0.5019 - val_acc: 0.7620\n",
      "Epoch 29/100\n",
      " 99/100 [============================>.] - ETA: 0s - loss: 0.5209 - acc: 0.7444Epoch 1/100\n",
      "100/100 [==============================] - 44s 438ms/step - loss: 0.5214 - acc: 0.7435 - val_loss: 0.5535 - val_acc: 0.7420\n",
      "Epoch 30/100\n",
      " 99/100 [============================>.] - ETA: 0s - loss: 0.5184 - acc: 0.7424Epoch 1/100\n",
      "100/100 [==============================] - 42s 423ms/step - loss: 0.5179 - acc: 0.7430 - val_loss: 0.5701 - val_acc: 0.6750\n",
      "Epoch 31/100\n",
      " 99/100 [============================>.] - ETA: 0s - loss: 0.5205 - acc: 0.7338Epoch 1/100\n",
      "100/100 [==============================] - 43s 433ms/step - loss: 0.5203 - acc: 0.7335 - val_loss: 0.4787 - val_acc: 0.7620\n",
      "Epoch 32/100\n",
      " 99/100 [============================>.] - ETA: 0s - loss: 0.5154 - acc: 0.7359Epoch 1/100\n",
      "100/100 [==============================] - 42s 420ms/step - loss: 0.5149 - acc: 0.7375 - val_loss: 0.4837 - val_acc: 0.7480\n",
      "Epoch 33/100\n",
      " 99/100 [============================>.] - ETA: 0s - loss: 0.4923 - acc: 0.7611Epoch 1/100\n",
      "100/100 [==============================] - 42s 424ms/step - loss: 0.4919 - acc: 0.7620 - val_loss: 0.4807 - val_acc: 0.7550\n",
      "Epoch 34/100\n",
      " 99/100 [============================>.] - ETA: 0s - loss: 0.5057 - acc: 0.7490Epoch 1/100\n",
      "100/100 [==============================] - 46s 455ms/step - loss: 0.5054 - acc: 0.7490 - val_loss: 0.4794 - val_acc: 0.7720\n",
      "Epoch 35/100\n",
      " 99/100 [============================>.] - ETA: 0s - loss: 0.5045 - acc: 0.7505Epoch 1/100\n",
      "100/100 [==============================] - 47s 468ms/step - loss: 0.5034 - acc: 0.7515 - val_loss: 0.5329 - val_acc: 0.7280\n",
      "Epoch 36/100\n",
      " 99/100 [============================>.] - ETA: 0s - loss: 0.4925 - acc: 0.7616Epoch 1/100\n",
      "100/100 [==============================] - 44s 437ms/step - loss: 0.4947 - acc: 0.7600 - val_loss: 0.4936 - val_acc: 0.7580\n"
     ]
    },
    {
     "name": "stdout",
     "output_type": "stream",
     "text": [
      "Epoch 37/100\n",
      " 99/100 [============================>.] - ETA: 0s - loss: 0.5029 - acc: 0.7455Epoch 1/100\n",
      "100/100 [==============================] - 45s 454ms/step - loss: 0.5032 - acc: 0.7450 - val_loss: 0.4904 - val_acc: 0.7650\n",
      "Epoch 38/100\n",
      " 99/100 [============================>.] - ETA: 0s - loss: 0.4915 - acc: 0.7556Epoch 1/100\n",
      "100/100 [==============================] - 43s 431ms/step - loss: 0.4924 - acc: 0.7555 - val_loss: 0.4809 - val_acc: 0.7700\n",
      "Epoch 39/100\n",
      " 99/100 [============================>.] - ETA: 0s - loss: 0.4915 - acc: 0.7515Epoch 1/100\n",
      "100/100 [==============================] - 42s 419ms/step - loss: 0.4926 - acc: 0.7515 - val_loss: 0.4766 - val_acc: 0.7660\n",
      "Epoch 40/100\n",
      " 99/100 [============================>.] - ETA: 0s - loss: 0.4849 - acc: 0.7672Epoch 1/100\n",
      "100/100 [==============================] - 40s 400ms/step - loss: 0.4853 - acc: 0.7660 - val_loss: 0.4815 - val_acc: 0.7700\n",
      "Epoch 41/100\n",
      " 99/100 [============================>.] - ETA: 0s - loss: 0.4901 - acc: 0.7742Epoch 1/100\n",
      "100/100 [==============================] - 41s 407ms/step - loss: 0.4894 - acc: 0.7735 - val_loss: 0.4748 - val_acc: 0.7770\n",
      "Epoch 42/100\n",
      " 99/100 [============================>.] - ETA: 0s - loss: 0.4840 - acc: 0.7646Epoch 1/100\n",
      "100/100 [==============================] - 40s 402ms/step - loss: 0.4831 - acc: 0.7645 - val_loss: 0.4999 - val_acc: 0.7640 0.76\n",
      "Epoch 43/100\n",
      " 99/100 [============================>.] - ETA: 0s - loss: 0.4792 - acc: 0.7657Epoch 1/100\n",
      "100/100 [==============================] - 42s 422ms/step - loss: 0.4788 - acc: 0.7660 - val_loss: 0.5731 - val_acc: 0.7270\n",
      "Epoch 44/100\n",
      " 99/100 [============================>.] - ETA: 0s - loss: 0.4850 - acc: 0.7641Epoch 1/100\n",
      "100/100 [==============================] - 42s 421ms/step - loss: 0.4849 - acc: 0.7645 - val_loss: 0.4918 - val_acc: 0.7520\n",
      "Epoch 45/100\n",
      " 99/100 [============================>.] - ETA: 0s - loss: 0.4740 - acc: 0.7773Epoch 1/100\n",
      "100/100 [==============================] - 42s 418ms/step - loss: 0.4729 - acc: 0.7785 - val_loss: 0.4780 - val_acc: 0.7800\n",
      "Epoch 46/100\n",
      " 99/100 [============================>.] - ETA: 0s - loss: 0.4710 - acc: 0.7778Epoch 1/100\n",
      "100/100 [==============================] - 42s 420ms/step - loss: 0.4701 - acc: 0.7790 - val_loss: 0.5095 - val_acc: 0.7580\n",
      "Epoch 47/100\n",
      " 99/100 [============================>.] - ETA: 0s - loss: 0.4635 - acc: 0.7823Epoch 1/100\n",
      "100/100 [==============================] - 41s 408ms/step - loss: 0.4643 - acc: 0.7825 - val_loss: 0.4855 - val_acc: 0.7730\n",
      "Epoch 48/100\n",
      " 99/100 [============================>.] - ETA: 0s - loss: 0.4644 - acc: 0.7788Epoch 1/100\n",
      "100/100 [==============================] - 41s 413ms/step - loss: 0.4632 - acc: 0.7795 - val_loss: 0.5310 - val_acc: 0.7660\n",
      "Epoch 49/100\n",
      " 99/100 [============================>.] - ETA: 0s - loss: 0.4685 - acc: 0.7717Epoch 1/100\n",
      "100/100 [==============================] - 41s 413ms/step - loss: 0.4683 - acc: 0.7730 - val_loss: 0.5429 - val_acc: 0.7180\n",
      "Epoch 50/100\n",
      " 99/100 [============================>.] - ETA: 0s - loss: 0.4682 - acc: 0.7783Epoch 1/100\n",
      "100/100 [==============================] - 41s 407ms/step - loss: 0.4667 - acc: 0.7790 - val_loss: 0.4766 - val_acc: 0.7620\n",
      "Epoch 51/100\n",
      " 99/100 [============================>.] - ETA: 0s - loss: 0.4679 - acc: 0.7742Epoch 1/100\n",
      "100/100 [==============================] - 41s 409ms/step - loss: 0.4677 - acc: 0.7740 - val_loss: 0.5005 - val_acc: 0.7760\n",
      "Epoch 52/100\n",
      " 99/100 [============================>.] - ETA: 0s - loss: 0.4632 - acc: 0.7864Epoch 1/100\n",
      "100/100 [==============================] - 41s 407ms/step - loss: 0.4620 - acc: 0.7865 - val_loss: 0.4537 - val_acc: 0.7870\n",
      "Epoch 53/100\n",
      " 99/100 [============================>.] - ETA: 0s - loss: 0.4683 - acc: 0.7717Epoch 1/100\n",
      "100/100 [==============================] - 41s 408ms/step - loss: 0.4690 - acc: 0.7705 - val_loss: 0.4568 - val_acc: 0.7880\n",
      "Epoch 54/100\n",
      " 99/100 [============================>.] - ETA: 0s - loss: 0.4477 - acc: 0.7929Epoch 1/100\n",
      "100/100 [==============================] - 41s 408ms/step - loss: 0.4473 - acc: 0.7930 - val_loss: 0.4558 - val_acc: 0.7930\n",
      "Epoch 55/100\n",
      " 99/100 [============================>.] - ETA: 0s - loss: 0.4577 - acc: 0.7768Epoch 1/100\n",
      "100/100 [==============================] - 41s 410ms/step - loss: 0.4557 - acc: 0.7785 - val_loss: 0.4667 - val_acc: 0.7690\n",
      "Epoch 56/100\n",
      " 99/100 [============================>.] - ETA: 0s - loss: 0.4571 - acc: 0.7808Epoch 1/100\n",
      "100/100 [==============================] - 41s 406ms/step - loss: 0.4563 - acc: 0.7810 - val_loss: 0.4651 - val_acc: 0.7780\n",
      "Epoch 57/100\n",
      " 99/100 [============================>.] - ETA: 0s - loss: 0.4562 - acc: 0.7798Epoch 1/100\n",
      "100/100 [==============================] - 41s 414ms/step - loss: 0.4547 - acc: 0.7810 - val_loss: 0.4701 - val_acc: 0.7830\n",
      "Epoch 58/100\n",
      " 99/100 [============================>.] - ETA: 0s - loss: 0.4643 - acc: 0.7848Epoch 1/100\n",
      "100/100 [==============================] - 41s 409ms/step - loss: 0.4649 - acc: 0.7840 - val_loss: 0.4546 - val_acc: 0.7940\n",
      "Epoch 59/100\n",
      " 99/100 [============================>.] - ETA: 0s - loss: 0.4471 - acc: 0.7960Epoch 1/100\n",
      "100/100 [==============================] - 40s 403ms/step - loss: 0.4455 - acc: 0.7975 - val_loss: 0.4659 - val_acc: 0.7860\n",
      "Epoch 60/100\n",
      " 99/100 [============================>.] - ETA: 0s - loss: 0.4523 - acc: 0.7864Epoch 1/100\n",
      "100/100 [==============================] - 41s 412ms/step - loss: 0.4536 - acc: 0.7860 - val_loss: 0.5398 - val_acc: 0.7520\n",
      "Epoch 61/100\n",
      " 99/100 [============================>.] - ETA: 0s - loss: 0.4546 - acc: 0.7818Epoch 1/100\n",
      "100/100 [==============================] - 41s 410ms/step - loss: 0.4555 - acc: 0.7820 - val_loss: 0.4660 - val_acc: 0.7780\n",
      "Epoch 62/100\n",
      " 99/100 [============================>.] - ETA: 0s - loss: 0.4571 - acc: 0.7854Epoch 1/100\n",
      "100/100 [==============================] - 40s 404ms/step - loss: 0.4561 - acc: 0.7865 - val_loss: 0.4969 - val_acc: 0.7470\n",
      "Epoch 63/100\n",
      " 99/100 [============================>.] - ETA: 0s - loss: 0.4431 - acc: 0.7859Epoch 1/100\n",
      "100/100 [==============================] - 40s 404ms/step - loss: 0.4421 - acc: 0.7870 - val_loss: 0.4425 - val_acc: 0.7920\n",
      "Epoch 64/100\n",
      " 99/100 [============================>.] - ETA: 0s - loss: 0.4519 - acc: 0.7899Epoch 1/100\n",
      "100/100 [==============================] - 41s 414ms/step - loss: 0.4524 - acc: 0.7900 - val_loss: 0.4636 - val_acc: 0.7840\n",
      "Epoch 65/100\n",
      " 99/100 [============================>.] - ETA: 0s - loss: 0.4402 - acc: 0.7909Epoch 1/100\n",
      "100/100 [==============================] - 40s 399ms/step - loss: 0.4426 - acc: 0.7905 - val_loss: 0.5318 - val_acc: 0.7540\n",
      "Epoch 66/100\n",
      " 99/100 [============================>.] - ETA: 0s - loss: 0.4472 - acc: 0.7808Epoch 1/100\n",
      "100/100 [==============================] - 41s 405ms/step - loss: 0.4488 - acc: 0.7795 - val_loss: 0.4564 - val_acc: 0.7890\n",
      "Epoch 67/100\n",
      " 99/100 [============================>.] - ETA: 0s - loss: 0.4226 - acc: 0.8025Epoch 1/100\n",
      "100/100 [==============================] - 41s 407ms/step - loss: 0.4278 - acc: 0.8005 - val_loss: 0.5136 - val_acc: 0.7500\n",
      "Epoch 68/100\n",
      " 99/100 [============================>.] - ETA: 0s - loss: 0.4396 - acc: 0.7944Epoch 1/100\n",
      "100/100 [==============================] - 41s 408ms/step - loss: 0.4368 - acc: 0.7960 - val_loss: 0.5423 - val_acc: 0.7650\n",
      "Epoch 69/100\n",
      " 99/100 [============================>.] - ETA: 0s - loss: 0.4515 - acc: 0.7833Epoch 1/100\n",
      "100/100 [==============================] - 41s 405ms/step - loss: 0.4532 - acc: 0.7815 - val_loss: 0.4580 - val_acc: 0.7850\n",
      "Epoch 70/100\n",
      " 99/100 [============================>.] - ETA: 0s - loss: 0.4344 - acc: 0.7914Epoch 1/100\n",
      "100/100 [==============================] - 41s 412ms/step - loss: 0.4359 - acc: 0.7900 - val_loss: 0.4328 - val_acc: 0.7990\n",
      "Epoch 71/100\n",
      " 99/100 [============================>.] - ETA: 0s - loss: 0.4341 - acc: 0.7990Epoch 1/100\n",
      "100/100 [==============================] - 42s 418ms/step - loss: 0.4332 - acc: 0.7995 - val_loss: 0.4775 - val_acc: 0.7790\n",
      "Epoch 72/100\n",
      " 99/100 [============================>.] - ETA: 0s - loss: 0.4321 - acc: 0.7980Epoch 1/100\n",
      "100/100 [==============================] - 41s 411ms/step - loss: 0.4298 - acc: 0.7990 - val_loss: 0.4616 - val_acc: 0.7840\n"
     ]
    },
    {
     "name": "stdout",
     "output_type": "stream",
     "text": [
      "Epoch 73/100\n",
      " 99/100 [============================>.] - ETA: 0s - loss: 0.4285 - acc: 0.8015Epoch 1/100\n",
      "100/100 [==============================] - 42s 420ms/step - loss: 0.4295 - acc: 0.8010 - val_loss: 0.5637 - val_acc: 0.7600\n",
      "Epoch 74/100\n",
      " 99/100 [============================>.] - ETA: 0s - loss: 0.4304 - acc: 0.7929Epoch 1/100\n",
      "100/100 [==============================] - 41s 410ms/step - loss: 0.4292 - acc: 0.7945 - val_loss: 0.4298 - val_acc: 0.7960\n",
      "Epoch 75/100\n",
      " 99/100 [============================>.] - ETA: 0s - loss: 0.4218 - acc: 0.8056Epoch 1/100\n",
      "100/100 [==============================] - 41s 412ms/step - loss: 0.4211 - acc: 0.8060 - val_loss: 0.4552 - val_acc: 0.7890\n",
      "Epoch 76/100\n",
      " 99/100 [============================>.] - ETA: 0s - loss: 0.4221 - acc: 0.8005Epoch 1/100\n",
      "100/100 [==============================] - 43s 432ms/step - loss: 0.4214 - acc: 0.8010 - val_loss: 0.4853 - val_acc: 0.7880\n",
      "Epoch 77/100\n",
      " 99/100 [============================>.] - ETA: 0s - loss: 0.4201 - acc: 0.8025Epoch 1/100\n",
      "100/100 [==============================] - 41s 414ms/step - loss: 0.4196 - acc: 0.8025 - val_loss: 0.5513 - val_acc: 0.7770\n",
      "Epoch 78/100\n",
      " 99/100 [============================>.] - ETA: 0s - loss: 0.4173 - acc: 0.8035Epoch 1/100\n",
      "100/100 [==============================] - 42s 417ms/step - loss: 0.4173 - acc: 0.8035 - val_loss: 0.4344 - val_acc: 0.8100\n",
      "Epoch 79/100\n",
      " 99/100 [============================>.] - ETA: 0s - loss: 0.4187 - acc: 0.8081Epoch 1/100\n",
      "100/100 [==============================] - 42s 424ms/step - loss: 0.4189 - acc: 0.8075 - val_loss: 0.4402 - val_acc: 0.7890\n",
      "Epoch 80/100\n",
      " 99/100 [============================>.] - ETA: 0s - loss: 0.4258 - acc: 0.7995Epoch 1/100\n",
      "100/100 [==============================] - 41s 411ms/step - loss: 0.4261 - acc: 0.7985 - val_loss: 0.5191 - val_acc: 0.7810\n",
      "Epoch 81/100\n",
      " 99/100 [============================>.] - ETA: 0s - loss: 0.4128 - acc: 0.8172Epoch 1/100\n",
      "100/100 [==============================] - 42s 419ms/step - loss: 0.4128 - acc: 0.8165 - val_loss: 0.4460 - val_acc: 0.8020\n",
      "Epoch 82/100\n",
      " 99/100 [============================>.] - ETA: 0s - loss: 0.4141 - acc: 0.8096Epoch 1/100\n",
      "100/100 [==============================] - 42s 417ms/step - loss: 0.4143 - acc: 0.8090 - val_loss: 0.5216 - val_acc: 0.7790\n",
      "Epoch 83/100\n",
      " 99/100 [============================>.] - ETA: 0s - loss: 0.4124 - acc: 0.8126Epoch 1/100\n",
      "100/100 [==============================] - 42s 420ms/step - loss: 0.4114 - acc: 0.8130 - val_loss: 0.4851 - val_acc: 0.7770\n",
      "Epoch 84/100\n",
      " 99/100 [============================>.] - ETA: 0s - loss: 0.4218 - acc: 0.7960Epoch 1/100\n",
      "100/100 [==============================] - 42s 415ms/step - loss: 0.4210 - acc: 0.7960 - val_loss: 0.4695 - val_acc: 0.7970\n",
      "Epoch 85/100\n",
      " 99/100 [============================>.] - ETA: 0s - loss: 0.3988 - acc: 0.8227Epoch 1/100\n",
      "100/100 [==============================] - 41s 409ms/step - loss: 0.3979 - acc: 0.8225 - val_loss: 0.5820 - val_acc: 0.7680\n",
      "Epoch 86/100\n",
      " 99/100 [============================>.] - ETA: 0s - loss: 0.4030 - acc: 0.8202Epoch 1/100\n",
      "100/100 [==============================] - 42s 417ms/step - loss: 0.4048 - acc: 0.8190 - val_loss: 0.5453 - val_acc: 0.7810\n",
      "Epoch 87/100\n",
      " 99/100 [============================>.] - ETA: 0s - loss: 0.4012 - acc: 0.8202Epoch 1/100\n",
      "100/100 [==============================] - 41s 415ms/step - loss: 0.4038 - acc: 0.8200 - val_loss: 0.4791 - val_acc: 0.7720\n",
      "Epoch 88/100\n",
      " 99/100 [============================>.] - ETA: 0s - loss: 0.4100 - acc: 0.8146Epoch 1/100\n",
      "100/100 [==============================] - 42s 418ms/step - loss: 0.4088 - acc: 0.8150 - val_loss: 0.4218 - val_acc: 0.8140\n",
      "Epoch 89/100\n",
      " 99/100 [============================>.] - ETA: 0s - loss: 0.4092 - acc: 0.8187Epoch 1/100\n",
      "100/100 [==============================] - 42s 416ms/step - loss: 0.4084 - acc: 0.8185 - val_loss: 0.6069 - val_acc: 0.7650\n",
      "Epoch 90/100\n",
      " 99/100 [============================>.] - ETA: 0s - loss: 0.3997 - acc: 0.8121Epoch 1/100\n",
      "100/100 [==============================] - 42s 418ms/step - loss: 0.3997 - acc: 0.8125 - val_loss: 0.4712 - val_acc: 0.7900\n",
      "Epoch 91/100\n",
      " 99/100 [============================>.] - ETA: 0s - loss: 0.3956 - acc: 0.8131Epoch 1/100\n",
      "100/100 [==============================] - 41s 413ms/step - loss: 0.3954 - acc: 0.8135 - val_loss: 0.4514 - val_acc: 0.7960\n",
      "Epoch 92/100\n",
      " 99/100 [============================>.] - ETA: 0s - loss: 0.3971 - acc: 0.8253Epoch 1/100\n",
      "100/100 [==============================] - 42s 422ms/step - loss: 0.3974 - acc: 0.8245 - val_loss: 0.4486 - val_acc: 0.7870\n",
      "Epoch 93/100\n",
      " 99/100 [============================>.] - ETA: 0s - loss: 0.3847 - acc: 0.8298Epoch 1/100\n",
      "100/100 [==============================] - 42s 419ms/step - loss: 0.3843 - acc: 0.8295 - val_loss: 0.4496 - val_acc: 0.8040\n",
      "Epoch 94/100\n",
      " 99/100 [============================>.] - ETA: 0s - loss: 0.3981 - acc: 0.8212Epoch 1/100\n",
      "100/100 [==============================] - 43s 426ms/step - loss: 0.3971 - acc: 0.8220 - val_loss: 0.4309 - val_acc: 0.8100\n",
      "Epoch 95/100\n",
      " 99/100 [============================>.] - ETA: 0s - loss: 0.3930 - acc: 0.8197Epoch 1/100\n",
      "100/100 [==============================] - 42s 417ms/step - loss: 0.3913 - acc: 0.8205 - val_loss: 0.4676 - val_acc: 0.8010\n",
      "Epoch 96/100\n",
      " 99/100 [============================>.] - ETA: 0s - loss: 0.3881 - acc: 0.8278Epoch 1/100\n",
      "100/100 [==============================] - 42s 419ms/step - loss: 0.3876 - acc: 0.8280 - val_loss: 0.4815 - val_acc: 0.7810\n",
      "Epoch 97/100\n",
      " 99/100 [============================>.] - ETA: 0s - loss: 0.3968 - acc: 0.8364Epoch 1/100\n",
      "100/100 [==============================] - 41s 414ms/step - loss: 0.3949 - acc: 0.8370 - val_loss: 0.4045 - val_acc: 0.8150\n",
      "Epoch 98/100\n",
      " 99/100 [============================>.] - ETA: 0s - loss: 0.3851 - acc: 0.8258Epoch 1/100\n",
      "100/100 [==============================] - 41s 415ms/step - loss: 0.3831 - acc: 0.8270 - val_loss: 0.4424 - val_acc: 0.8060\n",
      "Epoch 99/100\n",
      " 99/100 [============================>.] - ETA: 0s - loss: 0.3732 - acc: 0.8298Epoch 1/100\n",
      "100/100 [==============================] - 42s 418ms/step - loss: 0.3732 - acc: 0.8295 - val_loss: 0.4592 - val_acc: 0.8000\n",
      "Epoch 100/100\n",
      " 99/100 [============================>.] - ETA: 0s - loss: 0.3887 - acc: 0.8227Epoch 1/100\n",
      "100/100 [==============================] - 41s 411ms/step - loss: 0.3910 - acc: 0.8210 - val_loss: 0.4560 - val_acc: 0.8130\n"
     ]
    }
   ],
   "source": [
    "history=model.fit_generator(train_generator, steps_per_epoch=100, validation_data=valiadtion_generator, epochs=100, validation_steps=50)"
   ]
  },
  {
   "cell_type": "code",
   "execution_count": 55,
   "metadata": {},
   "outputs": [],
   "source": [
    "model.save(\"cats_and_dogs_small_2.h5\")"
   ]
  },
  {
   "cell_type": "markdown",
   "metadata": {},
   "source": [
    "## Transfer Learning"
   ]
  },
  {
   "cell_type": "code",
   "execution_count": 32,
   "metadata": {},
   "outputs": [],
   "source": [
    "from tensorflow.keras.applications import VGG16"
   ]
  },
  {
   "cell_type": "code",
   "execution_count": 33,
   "metadata": {},
   "outputs": [],
   "source": [
    "conv_base=VGG16(weights=\"imagenet\",include_top=False, input_shape=(150,150,3))"
   ]
  },
  {
   "cell_type": "code",
   "execution_count": 34,
   "metadata": {},
   "outputs": [
    {
     "name": "stdout",
     "output_type": "stream",
     "text": [
      "Model: \"vgg16\"\n",
      "_________________________________________________________________\n",
      "Layer (type)                 Output Shape              Param #   \n",
      "=================================================================\n",
      "input_1 (InputLayer)         [(None, 150, 150, 3)]     0         \n",
      "_________________________________________________________________\n",
      "block1_conv1 (Conv2D)        (None, 150, 150, 64)      1792      \n",
      "_________________________________________________________________\n",
      "block1_conv2 (Conv2D)        (None, 150, 150, 64)      36928     \n",
      "_________________________________________________________________\n",
      "block1_pool (MaxPooling2D)   (None, 75, 75, 64)        0         \n",
      "_________________________________________________________________\n",
      "block2_conv1 (Conv2D)        (None, 75, 75, 128)       73856     \n",
      "_________________________________________________________________\n",
      "block2_conv2 (Conv2D)        (None, 75, 75, 128)       147584    \n",
      "_________________________________________________________________\n",
      "block2_pool (MaxPooling2D)   (None, 37, 37, 128)       0         \n",
      "_________________________________________________________________\n",
      "block3_conv1 (Conv2D)        (None, 37, 37, 256)       295168    \n",
      "_________________________________________________________________\n",
      "block3_conv2 (Conv2D)        (None, 37, 37, 256)       590080    \n",
      "_________________________________________________________________\n",
      "block3_conv3 (Conv2D)        (None, 37, 37, 256)       590080    \n",
      "_________________________________________________________________\n",
      "block3_pool (MaxPooling2D)   (None, 18, 18, 256)       0         \n",
      "_________________________________________________________________\n",
      "block4_conv1 (Conv2D)        (None, 18, 18, 512)       1180160   \n",
      "_________________________________________________________________\n",
      "block4_conv2 (Conv2D)        (None, 18, 18, 512)       2359808   \n",
      "_________________________________________________________________\n",
      "block4_conv3 (Conv2D)        (None, 18, 18, 512)       2359808   \n",
      "_________________________________________________________________\n",
      "block4_pool (MaxPooling2D)   (None, 9, 9, 512)         0         \n",
      "_________________________________________________________________\n",
      "block5_conv1 (Conv2D)        (None, 9, 9, 512)         2359808   \n",
      "_________________________________________________________________\n",
      "block5_conv2 (Conv2D)        (None, 9, 9, 512)         2359808   \n",
      "_________________________________________________________________\n",
      "block5_conv3 (Conv2D)        (None, 9, 9, 512)         2359808   \n",
      "_________________________________________________________________\n",
      "block5_pool (MaxPooling2D)   (None, 4, 4, 512)         0         \n",
      "=================================================================\n",
      "Total params: 14,714,688\n",
      "Trainable params: 14,714,688\n",
      "Non-trainable params: 0\n",
      "_________________________________________________________________\n"
     ]
    }
   ],
   "source": [
    "conv_base.summary()"
   ]
  },
  {
   "cell_type": "code",
   "execution_count": 35,
   "metadata": {},
   "outputs": [],
   "source": [
    "import numpy as np"
   ]
  },
  {
   "cell_type": "code",
   "execution_count": 36,
   "metadata": {},
   "outputs": [],
   "source": [
    "from tensorflow.keras.preprocessing.image import ImageDataGenerator"
   ]
  },
  {
   "cell_type": "code",
   "execution_count": 37,
   "metadata": {},
   "outputs": [],
   "source": [
    "base_dir=\"C:\\\\Users\\\\Majid\\\\Desktop\\cats_and_dogs_small\""
   ]
  },
  {
   "cell_type": "code",
   "execution_count": 38,
   "metadata": {},
   "outputs": [],
   "source": [
    "train_dir=os.path.join(base_dir, \"train\")\n",
    "validation_dir=os.path.join(base_dir, \"valid\")\n",
    "test_dir=os.path.join(base_dir, \"test\")"
   ]
  },
  {
   "cell_type": "code",
   "execution_count": 39,
   "metadata": {},
   "outputs": [],
   "source": [
    "datagen=ImageDataGenerator(rescale=1/255, )\n",
    "batch_size=20\n",
    "\n",
    "def extract_features(directory, sample_count):\n",
    "    features=np.zeros(shape=(sample_count, 4, 4, 512))\n",
    "    labels=np.zeros(shape=(sample_count))\n",
    "    generator=datagen.flow_from_directory(directory, batch_size=batch_size, target_size=(150,150), class_mode=\"binary\")\n",
    "    i=0\n",
    "    for inputs_batch, labels_batch in generator:\n",
    "        features_batch=conv_base.predict(inputs_batch)\n",
    "        features[i*batch_size:(i+1)*batch_size]=features_batch\n",
    "        labels[i*batch_size:(i+1)*batch_size]=labels_batch\n",
    "        i+=1\n",
    "        if i*batch_size>=sample_count:\n",
    "            break\n",
    "    return features, labels"
   ]
  },
  {
   "cell_type": "code",
   "execution_count": 40,
   "metadata": {},
   "outputs": [
    {
     "name": "stdout",
     "output_type": "stream",
     "text": [
      "Found 2000 images belonging to 2 classes.\n"
     ]
    }
   ],
   "source": [
    "train_features, train_labels=extract_features(train_dir, 2000)"
   ]
  },
  {
   "cell_type": "code",
   "execution_count": 41,
   "metadata": {},
   "outputs": [
    {
     "name": "stdout",
     "output_type": "stream",
     "text": [
      "Found 1000 images belonging to 2 classes.\n",
      "Found 1000 images belonging to 2 classes.\n"
     ]
    }
   ],
   "source": [
    "validation_features, validation_labels=extract_features(validation_dir, 1000)\n",
    "test_features, test_labels=extract_features(test_dir, 1000)"
   ]
  },
  {
   "cell_type": "code",
   "execution_count": 42,
   "metadata": {},
   "outputs": [],
   "source": [
    "train_features=np.reshape(train_features, (2000, 4* 4*512))\n",
    "test_features=np.reshape(test_features, (1000, 4*4*512))\n",
    "validation_features=np.reshape(validation_features, (1000, 4*4*512))"
   ]
  },
  {
   "cell_type": "code",
   "execution_count": 43,
   "metadata": {},
   "outputs": [],
   "source": [
    "from tensorflow.keras import models, layers, optimizers"
   ]
  },
  {
   "cell_type": "code",
   "execution_count": 44,
   "metadata": {},
   "outputs": [],
   "source": [
    "model=models.Sequential()\n",
    "model.add(layers.Flatten())\n",
    "model.add(layers.Dense(256, activation=\"relu\", input_dim=4*4*512))\n",
    "model.add(layers.Dropout(0.5))\n",
    "model.add(layers.Dense(1, activation=\"sigmoid\"))"
   ]
  },
  {
   "cell_type": "code",
   "execution_count": 45,
   "metadata": {},
   "outputs": [],
   "source": [
    "model.compile(optimizer=optimizers.RMSprop(lr=2e-5), loss=\"binary_crossentropy\", metrics=[\"acc\"])"
   ]
  },
  {
   "cell_type": "code",
   "execution_count": 51,
   "metadata": {},
   "outputs": [
    {
     "name": "stdout",
     "output_type": "stream",
     "text": [
      "Train on 2000 samples, validate on 1000 samples\n",
      "Epoch 1/30\n",
      "2000/2000 [==============================] - 3s 1ms/sample - loss: 0.5831 - acc: 0.6850 - val_loss: 0.4336 - val_acc: 0.8410\n",
      "Epoch 2/30\n",
      "2000/2000 [==============================] - 3s 1ms/sample - loss: 0.4247 - acc: 0.8060 - val_loss: 0.3566 - val_acc: 0.8580\n",
      "Epoch 3/30\n",
      "2000/2000 [==============================] - 2s 1ms/sample - loss: 0.3507 - acc: 0.8470 - val_loss: 0.3159 - val_acc: 0.8820\n",
      "Epoch 4/30\n",
      "2000/2000 [==============================] - 2s 1ms/sample - loss: 0.3098 - acc: 0.8740 - val_loss: 0.2932 - val_acc: 0.8890\n",
      "Epoch 5/30\n",
      "2000/2000 [==============================] - 2s 1ms/sample - loss: 0.2932 - acc: 0.8750 - val_loss: 0.2795 - val_acc: 0.8950\n",
      "Epoch 6/30\n",
      "2000/2000 [==============================] - 2s 1ms/sample - loss: 0.2604 - acc: 0.9025 - val_loss: 0.2703 - val_acc: 0.8950\n",
      "Epoch 7/30\n",
      "2000/2000 [==============================] - 2s 1ms/sample - loss: 0.2447 - acc: 0.9095 - val_loss: 0.2584 - val_acc: 0.8980\n",
      "Epoch 8/30\n",
      "2000/2000 [==============================] - 3s 2ms/sample - loss: 0.2324 - acc: 0.9130 - val_loss: 0.2745 - val_acc: 0.9020\n",
      "Epoch 9/30\n",
      "2000/2000 [==============================] - 2s 1ms/sample - loss: 0.2233 - acc: 0.9140 - val_loss: 0.2626 - val_acc: 0.8890\n",
      "Epoch 10/30\n",
      "2000/2000 [==============================] - 2s 1ms/sample - loss: 0.2172 - acc: 0.9135 - val_loss: 0.2448 - val_acc: 0.9000\n",
      "Epoch 11/30\n",
      "2000/2000 [==============================] - 2s 1ms/sample - loss: 0.1918 - acc: 0.9265 - val_loss: 0.2466 - val_acc: 0.8990\n",
      "Epoch 12/30\n",
      "2000/2000 [==============================] - 2s 1ms/sample - loss: 0.1860 - acc: 0.9325 - val_loss: 0.2429 - val_acc: 0.9020\n",
      "Epoch 13/30\n",
      "2000/2000 [==============================] - 2s 1ms/sample - loss: 0.1807 - acc: 0.9350 - val_loss: 0.2394 - val_acc: 0.9030\n",
      "Epoch 14/30\n",
      "2000/2000 [==============================] - 2s 1ms/sample - loss: 0.1716 - acc: 0.9400 - val_loss: 0.2374 - val_acc: 0.9050\n",
      "Epoch 15/30\n",
      "2000/2000 [==============================] - 3s 1ms/sample - loss: 0.1572 - acc: 0.9430 - val_loss: 0.2364 - val_acc: 0.9040\n",
      "Epoch 16/30\n",
      "2000/2000 [==============================] - 2s 1ms/sample - loss: 0.1549 - acc: 0.9450 - val_loss: 0.2347 - val_acc: 0.9040\n",
      "Epoch 17/30\n",
      "2000/2000 [==============================] - 2s 1ms/sample - loss: 0.1508 - acc: 0.9530 - val_loss: 0.2324 - val_acc: 0.9060\n",
      "Epoch 18/30\n",
      "2000/2000 [==============================] - 2s 1ms/sample - loss: 0.1460 - acc: 0.9505 - val_loss: 0.2379 - val_acc: 0.9030\n",
      "Epoch 19/30\n",
      "2000/2000 [==============================] - 2s 1ms/sample - loss: 0.1366 - acc: 0.9530 - val_loss: 0.2292 - val_acc: 0.9070\n",
      "Epoch 20/30\n",
      "2000/2000 [==============================] - 3s 1ms/sample - loss: 0.1330 - acc: 0.9560 - val_loss: 0.2313 - val_acc: 0.9060\n",
      "Epoch 21/30\n",
      "2000/2000 [==============================] - 3s 2ms/sample - loss: 0.1229 - acc: 0.9595 - val_loss: 0.2321 - val_acc: 0.9030\n",
      "Epoch 22/30\n",
      "2000/2000 [==============================] - 2s 1ms/sample - loss: 0.1220 - acc: 0.9565 - val_loss: 0.2299 - val_acc: 0.9080\n",
      "Epoch 23/30\n",
      "2000/2000 [==============================] - 2s 1ms/sample - loss: 0.1129 - acc: 0.9630 - val_loss: 0.2326 - val_acc: 0.9030\n",
      "Epoch 24/30\n",
      "2000/2000 [==============================] - 2s 1ms/sample - loss: 0.1132 - acc: 0.9665 - val_loss: 0.2382 - val_acc: 0.9040\n",
      "Epoch 25/30\n",
      "2000/2000 [==============================] - 2s 1ms/sample - loss: 0.1076 - acc: 0.9650 - val_loss: 0.2380 - val_acc: 0.9030\n",
      "Epoch 26/30\n",
      "2000/2000 [==============================] - 2s 1ms/sample - loss: 0.1022 - acc: 0.9645 - val_loss: 0.2364 - val_acc: 0.9030\n",
      "Epoch 27/30\n",
      "2000/2000 [==============================] - 2s 1ms/sample - loss: 0.0999 - acc: 0.9715 - val_loss: 0.2325 - val_acc: 0.9050\n",
      "Epoch 28/30\n",
      "2000/2000 [==============================] - 3s 2ms/sample - loss: 0.0895 - acc: 0.9745 - val_loss: 0.2393 - val_acc: 0.9030\n",
      "Epoch 29/30\n",
      "2000/2000 [==============================] - 2s 1ms/sample - loss: 0.0893 - acc: 0.9725 - val_loss: 0.2337 - val_acc: 0.9070\n",
      "Epoch 30/30\n",
      "2000/2000 [==============================] - 2s 1ms/sample - loss: 0.0898 - acc: 0.9720 - val_loss: 0.2498 - val_acc: 0.9010\n"
     ]
    }
   ],
   "source": [
    "history=model.fit(train_features,train_labels,validation_data=(validation_features, validation_labels), epochs=30, batch_size=20)"
   ]
  },
  {
   "cell_type": "code",
   "execution_count": 52,
   "metadata": {},
   "outputs": [
    {
     "data": {
      "image/png": "[encoded data removed]",
      "text/plain": [
       "<Figure size 432x288 with 1 Axes>"
      ]
     },
     "metadata": {
      "needs_background": "light"
     },
     "output_type": "display_data"
    },
    {
     "data": {
      "image/png": "[encoded data removed]",
      "text/plain": [
       "<Figure size 432x288 with 1 Axes>"
      ]
     },
     "metadata": {
      "needs_background": "light"
     },
     "output_type": "display_data"
    }
   ],
   "source": [
    "import matplotlib.pyplot as plt\n",
    "acc=history.history[\"acc\"]\n",
    "val_acc=history.history[\"val_acc\"]\n",
    "\n",
    "loss=history.history[\"loss\"]\n",
    "val_loss=loss=history.history[\"val_loss\"]\n",
    "\n",
    "epochs=range(1, len(acc)+1)\n",
    "\n",
    "plt.plot(epochs, acc, \"bo\", label=\"Traning accuracy\")\n",
    "plt.plot(epochs, val_acc, \"b\", label=\"Validation accuracy\")\n",
    "plt.title(\"Traning and Validation accuracy\")\n",
    "plt.legend()\n",
    "\n",
    "plt.figure()\n",
    "plt.plot(epochs, loss, \"bo\", label=\"Traning loss\")\n",
    "plt.plot(epochs, val_loss, \"b\", label=\"Validation loss\")\n",
    "plt.title(\"Traning and Validation loss\")\n",
    "plt.legend()\n",
    "plt.show()"
   ]
  }
 ],
 "metadata": {
  "kernelspec": {
   "display_name": "Python 3",
   "language": "python",
   "name": "python3"
  },
  "language_info": {
   "codemirror_mode": {
    "name": "ipython",
    "version": 3
   },
   "file_extension": ".py",
   "mimetype": "text/x-python",
   "name": "python",
   "nbconvert_exporter": "python",
   "pygments_lexer": "ipython3",
   "version": "3.7.5"
  }
 },
 "nbformat": 4,
 "nbformat_minor": 2
}
